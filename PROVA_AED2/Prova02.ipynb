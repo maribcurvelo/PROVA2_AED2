{
 "cells": [
  {
   "cell_type": "code",
   "execution_count": 3,
   "id": "6cd4d2e6-a11f-4748-a328-ff398d8f8f03",
   "metadata": {},
   "outputs": [
    {
     "name": "stdout",
     "output_type": "stream",
     "text": [
      "Lista original:  [29, 10, 14, 37, 13]\n",
      "Lista ordenada:  [10, 13, 14, 29, 37]\n",
      "Maior elemento:  37\n"
     ]
    }
   ],
   "source": [
    "#Dado o código que implementa o algoritmo de ordenação, adicione o método que exiba o maior elemento da lista.\n",
    "\n",
    "def selection_sort(arr):\n",
    "    for i in range(len(arr)):\n",
    "        min_idx = i\n",
    "        for j in range(i + 1, len(arr)):\n",
    "            if arr[j] < arr[min_idx]:\n",
    "                min_idx = j\n",
    "        arr[i], arr[min_idx] = arr[min_idx], arr[i]\n",
    "    return arr\n",
    "\n",
    "def find_max(arr):\n",
    "    return max(arr)\n",
    "    \n",
    "lista = [29, 10, 14, 37, 13]\n",
    "\n",
    "print(\"Lista original: \", lista)\n",
    "print(\"Lista ordenada: \", selection_sort(sorted_list))\n",
    "\n",
    "sorted_list = selection_sort(lista.copy())\n",
    "print(\"Maior elemento: \", find_max(sorted_list))"
   ]
  },
  {
   "cell_type": "code",
   "execution_count": null,
   "id": "63db7932-b0da-4de8-ab9a-2d6706c92118",
   "metadata": {},
   "outputs": [],
   "source": []
  }
 ],
 "metadata": {
  "kernelspec": {
   "display_name": "Python [conda env:base] *",
   "language": "python",
   "name": "conda-base-py"
  },
  "language_info": {
   "codemirror_mode": {
    "name": "ipython",
    "version": 3
   },
   "file_extension": ".py",
   "mimetype": "text/x-python",
   "name": "python",
   "nbconvert_exporter": "python",
   "pygments_lexer": "ipython3",
   "version": "3.12.7"
  }
 },
 "nbformat": 4,
 "nbformat_minor": 5
}

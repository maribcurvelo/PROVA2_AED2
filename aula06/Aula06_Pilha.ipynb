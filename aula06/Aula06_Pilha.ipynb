{
 "cells": [
  {
   "cell_type": "markdown",
   "metadata": {},
   "source": [
    "![Algoritmos e Estrutura de Dados II - Prof Piva](AED2_banner.jpg)"
   ]
  },
  {
   "cell_type": "markdown",
   "metadata": {
    "id": "3L3hMZxPloS9"
   },
   "source": [
    "## Aula 6 - Pilhas"
   ]
  },
  {
   "cell_type": "markdown",
   "metadata": {},
   "source": [
    "### Primeira Implementação"
   ]
  },
  {
   "cell_type": "code",
   "execution_count": 1,
   "metadata": {},
   "outputs": [],
   "source": [
    "# Implementacao da classe Pilha\n",
    "class Stack:\n",
    "    # Inicia com uma pilha vazia\n",
    "    def __init__(self):\n",
    "        self.itens = []\n",
    "    \n",
    "    # Verifica se pilha esta vazia\n",
    "    def is_empty(self):\n",
    "        return self.itens == []\n",
    "    \n",
    "    # Adiciona elemento no topo (topo e o final da lista)\n",
    "    def push(self, item):\n",
    "        self.itens.append(item)\n",
    "        print(f\"PUSH {item}\")\n",
    "\n",
    "    # Remove elemento do topo (final da lista)\n",
    "    def pop(self):\n",
    "        print(\"POP\")\n",
    "        return self.itens.pop()\n",
    "    \n",
    "    # Obtem o elemento do topo (mas nao remove)\n",
    "    def peek(self):\n",
    "    # Em Python, indice -1 retorna ultimo elemento (topo)\n",
    "        return self.itens[-1]\n",
    "    \n",
    "    # Retorna o numero de elementos da pilha\n",
    "    def size(self):\n",
    "        return len(self.itens)\n",
    "    \n",
    "    # Imprime pilha na tela\n",
    "    def print_stack(self):\n",
    "        print(self.itens)"
   ]
  },
  {
   "cell_type": "code",
   "execution_count": 3,
   "metadata": {},
   "outputs": [],
   "source": [
    "# TESTANDO\n",
    "S = Stack()"
   ]
  },
  {
   "cell_type": "code",
   "execution_count": 5,
   "metadata": {},
   "outputs": [
    {
     "data": {
      "text/plain": [
       "__main__.Stack"
      ]
     },
     "execution_count": 5,
     "metadata": {},
     "output_type": "execute_result"
    }
   ],
   "source": [
    "type (S)"
   ]
  },
  {
   "cell_type": "code",
   "execution_count": 7,
   "metadata": {},
   "outputs": [
    {
     "name": "stdout",
     "output_type": "stream",
     "text": [
      "[]\n"
     ]
    }
   ],
   "source": [
    "S.print_stack()"
   ]
  },
  {
   "cell_type": "code",
   "execution_count": 9,
   "metadata": {},
   "outputs": [
    {
     "name": "stdout",
     "output_type": "stream",
     "text": [
      "PUSH 1\n"
     ]
    }
   ],
   "source": [
    "S.push(1)"
   ]
  },
  {
   "cell_type": "code",
   "execution_count": 11,
   "metadata": {},
   "outputs": [
    {
     "name": "stdout",
     "output_type": "stream",
     "text": [
      "PUSH 2\n"
     ]
    }
   ],
   "source": [
    "S.push(2)"
   ]
  },
  {
   "cell_type": "code",
   "execution_count": 13,
   "metadata": {},
   "outputs": [
    {
     "name": "stdout",
     "output_type": "stream",
     "text": [
      "PUSH 3\n"
     ]
    }
   ],
   "source": [
    "S.push(3)"
   ]
  },
  {
   "cell_type": "code",
   "execution_count": 15,
   "metadata": {},
   "outputs": [
    {
     "name": "stdout",
     "output_type": "stream",
     "text": [
      "[1, 2, 3]\n"
     ]
    }
   ],
   "source": [
    "S.print_stack()"
   ]
  },
  {
   "cell_type": "code",
   "execution_count": 17,
   "metadata": {},
   "outputs": [
    {
     "name": "stdout",
     "output_type": "stream",
     "text": [
      "POP\n"
     ]
    },
    {
     "data": {
      "text/plain": [
       "3"
      ]
     },
     "execution_count": 17,
     "metadata": {},
     "output_type": "execute_result"
    }
   ],
   "source": [
    "S.pop()"
   ]
  },
  {
   "cell_type": "code",
   "execution_count": 19,
   "metadata": {},
   "outputs": [
    {
     "name": "stdout",
     "output_type": "stream",
     "text": [
      "POP\n"
     ]
    },
    {
     "data": {
      "text/plain": [
       "2"
      ]
     },
     "execution_count": 19,
     "metadata": {},
     "output_type": "execute_result"
    }
   ],
   "source": [
    "S.pop()"
   ]
  },
  {
   "cell_type": "code",
   "execution_count": 21,
   "metadata": {},
   "outputs": [
    {
     "name": "stdout",
     "output_type": "stream",
     "text": [
      "[1]\n"
     ]
    }
   ],
   "source": [
    "S.print_stack()"
   ]
  },
  {
   "cell_type": "code",
   "execution_count": 23,
   "metadata": {},
   "outputs": [
    {
     "name": "stdout",
     "output_type": "stream",
     "text": [
      "PUSH 7\n"
     ]
    }
   ],
   "source": [
    "S.push(7)"
   ]
  },
  {
   "cell_type": "code",
   "execution_count": 25,
   "metadata": {},
   "outputs": [
    {
     "name": "stdout",
     "output_type": "stream",
     "text": [
      "PUSH 8\n"
     ]
    }
   ],
   "source": [
    "S.push(8)"
   ]
  },
  {
   "cell_type": "code",
   "execution_count": 27,
   "metadata": {},
   "outputs": [
    {
     "name": "stdout",
     "output_type": "stream",
     "text": [
      "PUSH 9\n"
     ]
    }
   ],
   "source": [
    "S.push(9)"
   ]
  },
  {
   "cell_type": "code",
   "execution_count": 29,
   "metadata": {},
   "outputs": [
    {
     "name": "stdout",
     "output_type": "stream",
     "text": [
      "[1, 7, 8, 9]\n"
     ]
    }
   ],
   "source": [
    "S.print_stack()"
   ]
  },
  {
   "cell_type": "code",
   "execution_count": 31,
   "metadata": {},
   "outputs": [
    {
     "name": "stdout",
     "output_type": "stream",
     "text": [
      "False\n"
     ]
    }
   ],
   "source": [
    "print(S.is_empty())"
   ]
  },
  {
   "cell_type": "markdown",
   "metadata": {},
   "source": [
    "### Segunda Implementação"
   ]
  },
  {
   "cell_type": "code",
   "execution_count": 33,
   "metadata": {
    "id": "7R1oTn1dqV1l"
   },
   "outputs": [],
   "source": [
    "import numpy as np"
   ]
  },
  {
   "cell_type": "code",
   "execution_count": 35,
   "metadata": {
    "id": "uTsNap9FqYXN"
   },
   "outputs": [],
   "source": [
    "class Pilha:\n",
    "    def __init__(self, capacidade):      #init é um construtor\n",
    "        self.__capacidade = capacidade      #__ forma que fazemos para dizer que o atributo é privado, capacidade quantidade de elementos\n",
    "        self.__topo = -1       # -1 representa uma posição fantasma, referencia que não tem nada\n",
    "        self.__valores = np.zeros(self.__capacidade, dtype=int)      # np.zeros cria um vetor, ou localização de zeros para serem preenchidas\n",
    "\n",
    "    def __pilha_cheia(self):     #__pilha_cheia - método privado, só pode ser acessado de dentro da classe\n",
    "        if self.__topo == self.__capacidade - 1:      # se estiver cheio, será False, se não True\n",
    "            return True\n",
    "        else:    \n",
    "            return False\n",
    "    \n",
    "    def __pilha_vazia(self):     \n",
    "        if self.__topo == -1:\n",
    "            return True\n",
    "        else:\n",
    "            return False\n",
    "    \n",
    "    def empilhar(self, valor):      #recebendo o valor a ser empilhado\n",
    "        if self.__pilha_cheia():   # se a pilha estiver cheia, não consigo mais empilhar\n",
    "            print('A pilha está cheia')\n",
    "        else:\n",
    "            self.__topo += 1 #adiciona o 1 na primeira posição que é zero\n",
    "            self.__valores[self.__topo] = valor\n",
    "    \n",
    "    def desempilhar(self):\n",
    "        if self.__pilha_vazia():\n",
    "            print('A pilha está vazia')    # se estiver vazia não posso desempilhar\n",
    "           #return -1\n",
    "        else:\n",
    "            #aux = self.__valores[self.__topo]\n",
    "            self.__valores[self.__topo] = 0\n",
    "            self.__topo -= 1      #coloco o zero no topo da pilha\n",
    "            #return aux      #para armazenar o valor e não perder\n",
    "            \n",
    "    \n",
    "    def ver_topo(self):\n",
    "        if self.__topo != -1:\n",
    "            return self.__valores[self.__topo]      #se for -1 está vazio\n",
    "        else:\n",
    "            return -1\n",
    "    \n",
    "    # Imprime pilha na tela\n",
    "    def imprime_pilha(self):      #mostra os valores\n",
    "        print(self.__valores)"
   ]
  },
  {
   "cell_type": "code",
   "execution_count": 37,
   "metadata": {
    "id": "QtWvabeOq-0U"
   },
   "outputs": [],
   "source": [
    "pilha = Pilha(5)    #pilha = variável  - Pilha = classe"
   ]
  },
  {
   "cell_type": "code",
   "execution_count": 39,
   "metadata": {},
   "outputs": [
    {
     "name": "stdout",
     "output_type": "stream",
     "text": [
      "[0 0 0 0 0]\n"
     ]
    }
   ],
   "source": [
    "pilha.imprime_pilha()"
   ]
  },
  {
   "cell_type": "code",
   "execution_count": 69,
   "metadata": {
    "colab": {
     "base_uri": "https://localhost:8080/",
     "height": 55
    },
    "id": "MNlDMfOHrCRL",
    "outputId": "7ab89260-93e2-4f48-8931-6d9738c1e19a"
   },
   "outputs": [
    {
     "data": {
      "text/plain": [
       "1"
      ]
     },
     "execution_count": 69,
     "metadata": {},
     "output_type": "execute_result"
    }
   ],
   "source": [
    "pilha.ver_topo()"
   ]
  },
  {
   "cell_type": "code",
   "execution_count": 71,
   "metadata": {
    "colab": {
     "base_uri": "https://localhost:8080/",
     "height": 55
    },
    "id": "LPneWEkaspzr",
    "outputId": "382175e0-1c18-4517-8aaa-a64f4a2f5297"
   },
   "outputs": [
    {
     "data": {
      "text/plain": [
       "1"
      ]
     },
     "execution_count": 71,
     "metadata": {},
     "output_type": "execute_result"
    }
   ],
   "source": [
    "pilha.empilhar(1)\n",
    "pilha.ver_topo()"
   ]
  },
  {
   "cell_type": "code",
   "execution_count": 73,
   "metadata": {
    "id": "DESk3CzKs3Jr"
   },
   "outputs": [
    {
     "name": "stdout",
     "output_type": "stream",
     "text": [
      "A pilha está cheia\n",
      "A pilha está cheia\n"
     ]
    }
   ],
   "source": [
    "pilha.empilhar(1)\n",
    "pilha.empilhar(2)\n",
    "pilha.empilhar(3)\n",
    "pilha.empilhar(4)"
   ]
  },
  {
   "cell_type": "code",
   "execution_count": 75,
   "metadata": {},
   "outputs": [
    {
     "name": "stdout",
     "output_type": "stream",
     "text": [
      "[1 1 1 1 2]\n"
     ]
    }
   ],
   "source": [
    "pilha.imprime_pilha()"
   ]
  },
  {
   "cell_type": "code",
   "execution_count": 77,
   "metadata": {
    "colab": {
     "base_uri": "https://localhost:8080/",
     "height": 55
    },
    "id": "ggPHGUVqs6oi",
    "outputId": "fb8b8854-d995-49c5-c71d-11001cf569cd"
   },
   "outputs": [
    {
     "name": "stdout",
     "output_type": "stream",
     "text": [
      "A pilha está cheia\n"
     ]
    }
   ],
   "source": [
    "pilha.empilhar(6)"
   ]
  },
  {
   "cell_type": "code",
   "execution_count": 79,
   "metadata": {
    "colab": {
     "base_uri": "https://localhost:8080/",
     "height": 55
    },
    "id": "RhoPtGMOs_XH",
    "outputId": "c858ad80-9fef-4506-ff7f-6ff211dfa2c1"
   },
   "outputs": [
    {
     "data": {
      "text/plain": [
       "2"
      ]
     },
     "execution_count": 79,
     "metadata": {},
     "output_type": "execute_result"
    }
   ],
   "source": [
    "pilha.ver_topo()"
   ]
  },
  {
   "cell_type": "code",
   "execution_count": 81,
   "metadata": {
    "id": "5HWGcf7BtE8G"
   },
   "outputs": [],
   "source": [
    "pilha.desempilhar()"
   ]
  },
  {
   "cell_type": "code",
   "execution_count": 83,
   "metadata": {
    "colab": {
     "base_uri": "https://localhost:8080/",
     "height": 55
    },
    "id": "wfmWii0UtHPG",
    "outputId": "3a1a9ca0-0a67-4764-9c93-a1db47951afb"
   },
   "outputs": [
    {
     "data": {
      "text/plain": [
       "1"
      ]
     },
     "execution_count": 83,
     "metadata": {},
     "output_type": "execute_result"
    }
   ],
   "source": [
    "pilha.ver_topo()"
   ]
  },
  {
   "cell_type": "code",
   "execution_count": 85,
   "metadata": {
    "id": "2UKSXChKtMbj"
   },
   "outputs": [],
   "source": [
    "pilha.desempilhar()\n",
    "pilha.desempilhar()\n",
    "pilha.desempilhar()"
   ]
  },
  {
   "cell_type": "code",
   "execution_count": 87,
   "metadata": {
    "colab": {
     "base_uri": "https://localhost:8080/",
     "height": 55
    },
    "id": "Vmi31QQUtTJO",
    "outputId": "7af8c276-9f04-4d31-937d-575e24205995"
   },
   "outputs": [
    {
     "data": {
      "text/plain": [
       "1"
      ]
     },
     "execution_count": 87,
     "metadata": {},
     "output_type": "execute_result"
    }
   ],
   "source": [
    "pilha.ver_topo()"
   ]
  },
  {
   "cell_type": "code",
   "execution_count": 89,
   "metadata": {},
   "outputs": [
    {
     "name": "stdout",
     "output_type": "stream",
     "text": [
      "[1 0 0 0 0]\n"
     ]
    }
   ],
   "source": [
    "pilha.imprime_pilha()"
   ]
  },
  {
   "cell_type": "code",
   "execution_count": 91,
   "metadata": {
    "colab": {
     "base_uri": "https://localhost:8080/",
     "height": 55
    },
    "id": "fTia1ivdtei2",
    "outputId": "b1306403-9418-4a41-ecd2-388c8722d4b0"
   },
   "outputs": [],
   "source": [
    "pilha.desempilhar()"
   ]
  },
  {
   "cell_type": "code",
   "execution_count": 93,
   "metadata": {},
   "outputs": [
    {
     "name": "stdout",
     "output_type": "stream",
     "text": [
      "[0 0 0 0 0]\n"
     ]
    }
   ],
   "source": [
    "pilha.imprime_pilha()"
   ]
  },
  {
   "cell_type": "code",
   "execution_count": 95,
   "metadata": {},
   "outputs": [
    {
     "name": "stdout",
     "output_type": "stream",
     "text": [
      "A pilha está vazia\n"
     ]
    }
   ],
   "source": [
    "pilha.desempilhar()"
   ]
  },
  {
   "cell_type": "markdown",
   "metadata": {},
   "source": [
    "# Vamos à Prática!\n",
    "## Exercício"
   ]
  },
  {
   "cell_type": "markdown",
   "metadata": {},
   "source": [
    "Utilização de pilhas para conversão de números inteiros em decimal para binário (método da divisão sucessiva por 2)."
   ]
  },
  {
   "cell_type": "markdown",
   "metadata": {},
   "source": [
    "**Utilização do classe Stack..**"
   ]
  },
  {
   "cell_type": "code",
   "execution_count": 113,
   "metadata": {},
   "outputs": [],
   "source": [
    "# Função que converte um número decimal para binário\n",
    "def decimal_binario(numero):\n",
    " s = Stack()\n",
    " while numero > 0:\n",
    "     resto = numero % 2\n",
    "     s.push(resto)\n",
    "     numero = numero // 2\n",
    " binario = ''\n",
    " while not s.is_empty():\n",
    "     binario = binario + str(s.pop())\n",
    " return binario"
   ]
  },
  {
   "cell_type": "markdown",
   "metadata": {},
   "source": [
    "### Testando!\n",
    "233 --> binário"
   ]
  },
  {
   "cell_type": "code",
   "execution_count": 120,
   "metadata": {},
   "outputs": [
    {
     "name": "stdin",
     "output_type": "stream",
     "text": [
      "Entre com um número inteiro:  145\n"
     ]
    },
    {
     "name": "stdout",
     "output_type": "stream",
     "text": [
      "PUSH 1\n",
      "PUSH 0\n",
      "PUSH 0\n",
      "PUSH 0\n",
      "PUSH 1\n",
      "PUSH 0\n",
      "PUSH 0\n",
      "PUSH 1\n",
      "POP\n",
      "POP\n",
      "POP\n",
      "POP\n",
      "POP\n",
      "POP\n",
      "POP\n",
      "POP\n",
      "O valor 145 em binário é: 10010001\n"
     ]
    }
   ],
   "source": [
    "# TESTANDO\n",
    "n = int(input('Entre com um número inteiro: '))\n",
    "print(f\"O valor {n} em binário é: {decimal_binario(n)}\") "
   ]
  },
  {
   "cell_type": "markdown",
   "metadata": {},
   "source": [
    "### Fim Teoria Aula 6"
   ]
  },
  {
   "cell_type": "code",
   "execution_count": null,
   "metadata": {},
   "outputs": [],
   "source": [
    "Criando um Validador de () {} e []"
   ]
  },
  {
   "cell_type": "code",
   "execution_count": 160,
   "metadata": {},
   "outputs": [
    {
     "name": "stdin",
     "output_type": "stream",
     "text": [
      "Digite a sequência de parênteses, colchetes e chaves para validar:  {[(0)]}\n"
     ]
    },
    {
     "name": "stdout",
     "output_type": "stream",
     "text": [
      "True!\n"
     ]
    }
   ],
   "source": [
    "class Stack:  # Criação de uma classe chamada Stack (Pilha)\n",
    "    def __init__(self):  # Método especial de inicialização (construtor)\n",
    "        self.lista = []  # Inicializa um atributo da classe, chamado items, que é uma lista vazia. Ele será usado para armazenar os elementos da pilha.\n",
    "\n",
    "    def push(self, lista):  # Método para adicionar um item à pilha\n",
    "        self.lista.append(lista)  # Adiciona o item no final da lista, que é a forma de empilhar (push) na pilha.\n",
    "\n",
    "    def pop(self):  # Método para remover o item do topo da pilha\n",
    "        if not self.is_empty():  # Verifica se a pilha não está vazia antes de tentar remover um item\n",
    "            return self.lista.pop()  # Remove e retorna o último item da lista (topo da pilha)\n",
    "        return None  # Caso a pilha esteja vazia, retorna None.\n",
    "\n",
    "    def is_empty(self):  # Método que verifica se a pilha está vazia\n",
    "        return len(self.lista) == 0  # Retorna True se o comprimento da lista for 0 (indicando que está vazia), caso contrário retorna False.\n",
    "\n",
    "def validar_sequencia(s):  # Função que valida se a sequência de parênteses, colchetes e chaves está correta\n",
    "    pilha = Stack()  # Cria uma instância da classe Stack para armazenar os caracteres.\n",
    "    pares = {')': '(', ']': '[', '}': '{'}  # Dicionário que mapeia os caracteres de fechamento para seus respectivos caracteres de abertura.\n",
    "\n",
    "    for char in s:  # Itera sobre cada caractere na string de entrada\n",
    "        if char in pares.values():  # Se o caractere for um de abertura ('(', '[', '{')\n",
    "            pilha.push(char)  # Empilha o caractere na pilha.\n",
    "        elif char in pares.keys():  # Se o caractere for um de fechamento (')', ']', '}')\n",
    "            if pilha.is_empty() or pilha.pop() != pares[char]:  # Se a pilha estiver vazia ou o topo da pilha não corresponder ao par correto\n",
    "                return False  # Retorna False, indicando que a sequência é inválida\n",
    "\n",
    "    return pilha.is_empty()  # Se a pilha estiver vazia no final, retorna True (sequência válida). Caso contrário, retorna False.\n",
    "\n",
    "# Entrada do usuário\n",
    "sequencia = input(\"Digite a sequência de parênteses, colchetes e chaves para validar: \")  # Solicita que o usuário insira uma sequência de caracteres\n",
    "if validar_sequencia(sequencia):  # Chama a função de validação passando a sequência do usuário\n",
    "    print(\"True!\")  # Se a sequência for válida, imprime \"True!\"\n",
    "else:\n",
    "    print(\"False!\")  # Caso contrário, imprime \"False!\"\n",
    "\n"
   ]
  },
  {
   "cell_type": "code",
   "execution_count": 162,
   "metadata": {},
   "outputs": [
    {
     "name": "stdin",
     "output_type": "stream",
     "text": [
      "Digite a sequência de parênteses, colchetes e chaves para validar:  {[(0)]}\n"
     ]
    },
    {
     "name": "stdout",
     "output_type": "stream",
     "text": [
      "Não é (), [] ou {}, insira apenas uma das três.\n",
      "False!\n"
     ]
    }
   ],
   "source": [
    "class Stack:\n",
    "    def __init__(self):\n",
    "        self.items = []\n",
    "\n",
    "    def push(self, item):\n",
    "        self.items.append(item)\n",
    "\n",
    "    def pop(self):\n",
    "        if not self.is_empty():\n",
    "            return self.items.pop()\n",
    "        return None\n",
    "\n",
    "    def is_empty(self):\n",
    "        return len(self.items) == 0\n",
    "\n",
    "def validar_sequencia(s):\n",
    "    pilha = Stack()\n",
    "    pares = {')': '(', ']': '[', '}': '{'}\n",
    "    caracteres_validos = \"({[]})\"  # Define os caracteres permitidos\n",
    "\n",
    "    for char in s:\n",
    "        if char not in caracteres_validos:  # Se encontrar um caractere inválido\n",
    "            print(\"Não é (), [] ou {}, insira apenas uma das três.\")\n",
    "            return False\n",
    "        if char in pares.values():\n",
    "            pilha.push(char)\n",
    "        elif char in pares.keys():\n",
    "            if pilha.is_empty() or pilha.pop() != pares[char]:\n",
    "                return False\n",
    "\n",
    "    return pilha.is_empty()\n",
    "\n",
    "# Entrada do usuário\n",
    "sequencia = input(\"Digite a sequência de parênteses, colchetes e chaves para validar: \")\n",
    "\n",
    "if validar_sequencia(sequencia):\n",
    "    print(\"True!\")\n",
    "else:\n",
    "    print(\"False!\")\n"
   ]
  },
  {
   "cell_type": "markdown",
   "metadata": {},
   "source": [
    "Implemente um históriao de ações para defazer e refazer operações em um editor de texto básico"
   ]
  },
  {
   "cell_type": "code",
   "execution_count": null,
   "metadata": {},
   "outputs": [
    {
     "name": "stdout",
     "output_type": "stream",
     "text": [
      "Digite palavras para escrever. Use 'UNDO' para remover a última palavra e 'REDO' para restaurá-la.\n",
      "Digite 'SAIR' para encerrar o programa.\n",
      "\n"
     ]
    },
    {
     "name": "stdin",
     "output_type": "stream",
     "text": [
      "Digite uma palavra:  Hello\n"
     ]
    },
    {
     "name": "stdout",
     "output_type": "stream",
     "text": [
      "Texto atual: Hello\n"
     ]
    },
    {
     "name": "stdin",
     "output_type": "stream",
     "text": [
      "Digite uma palavra:  Word\n"
     ]
    },
    {
     "name": "stdout",
     "output_type": "stream",
     "text": [
      "Texto atual: Hello Word\n"
     ]
    },
    {
     "name": "stdin",
     "output_type": "stream",
     "text": [
      "Digite uma palavra:  undo\n"
     ]
    },
    {
     "name": "stdout",
     "output_type": "stream",
     "text": [
      "Texto atual: Hello\n"
     ]
    },
    {
     "name": "stdin",
     "output_type": "stream",
     "text": [
      "Digite uma palavra:  redo\n"
     ]
    },
    {
     "name": "stdout",
     "output_type": "stream",
     "text": [
      "Texto atual: Hello Word\n"
     ]
    }
   ],
   "source": [
    "class EditorTexto:\n",
    "    def __init__(self):\n",
    "        self.texto = []  # Pilha principal para armazenar as palavras\n",
    "        self.desfeitos = []  # Pilha auxiliar para armazenar palavras desfeitas\n",
    "\n",
    "    def escrever(self, palavra):\n",
    "        \"\"\"Adiciona uma palavra ao texto e limpa a pilha de desfeitos.\"\"\"\n",
    "        self.texto.append(palavra)\n",
    "        self.desfeitos.clear()  # Sempre que o usuário digita algo novo, a pilha de refazer é limpa\n",
    "\n",
    "    def undo(self):\n",
    "        \"\"\"Remove a última palavra e a armazena para possível refazer.\"\"\"\n",
    "        if self.texto:\n",
    "            self.desfeitos.append(self.texto.pop())  # Move a última palavra para a pilha de desfeitos\n",
    "        else:\n",
    "            print(\"Nada para desfazer!\")\n",
    "\n",
    "    def redo(self):\n",
    "        \"\"\"Restaura a última palavra removida, se houver.\"\"\"\n",
    "        if self.desfeitos:\n",
    "            self.texto.append(self.desfeitos.pop())  # Recupera a última palavra removida\n",
    "        else:\n",
    "            print(\"Nada para refazer!\")\n",
    "\n",
    "    def exibir_texto(self):\n",
    "        \"\"\"Mostra o texto atual formatado.\"\"\"\n",
    "        print(\"Texto atual:\", \" \".join(self.texto))\n",
    "\n",
    "# Criando o editor de texto\n",
    "editor = EditorTexto()\n",
    "\n",
    "print(\"Digite palavras para escrever. Use 'UNDO' para remover a última palavra e 'REDO' para restaurá-la.\")\n",
    "print(\"Digite 'SAIR' para encerrar o programa.\\n\")\n",
    "\n",
    "while True:\n",
    "    entrada = input(\"Digite uma palavra: \").strip()\n",
    "\n",
    "    if entrada.upper() == \"SAIR\":\n",
    "        break\n",
    "    elif entrada.upper() == \"UNDO\":\n",
    "        editor.undo()\n",
    "    elif entrada.upper() == \"REDO\":\n",
    "        editor.redo()\n",
    "    else:\n",
    "        editor.escrever(entrada)\n",
    "\n",
    "    editor.exibir_texto()\n"
   ]
  },
  {
   "cell_type": "code",
   "execution_count": null,
   "metadata": {},
   "outputs": [],
   "source": []
  }
 ],
 "metadata": {
  "colab": {
   "provenance": []
  },
  "kernelspec": {
   "display_name": "Python [conda env:base] *",
   "language": "python",
   "name": "conda-base-py"
  },
  "language_info": {
   "codemirror_mode": {
    "name": "ipython",
    "version": 3
   },
   "file_extension": ".py",
   "mimetype": "text/x-python",
   "name": "python",
   "nbconvert_exporter": "python",
   "pygments_lexer": "ipython3",
   "version": "3.12.7"
  }
 },
 "nbformat": 4,
 "nbformat_minor": 4
}

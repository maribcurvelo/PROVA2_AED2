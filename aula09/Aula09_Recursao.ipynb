{
 "cells": [
  {
   "cell_type": "markdown",
   "metadata": {},
   "source": [
    "![Algoritmos e Estrutura de Dados II - Prof Piva](AED2_banner.jpg)"
   ]
  },
  {
   "cell_type": "markdown",
   "metadata": {
    "id": "vN5dGU1I7nNg"
   },
   "source": [
    "## Aula 9 - Recursão"
   ]
  },
  {
   "cell_type": "markdown",
   "metadata": {},
   "source": [
    "![Recursao. Chocolate Droste](recursao.jpg)"
   ]
  },
  {
   "cell_type": "markdown",
   "metadata": {
    "id": "Tqg0Orl18B49"
   },
   "source": [
    "#### Mostrar mensagens"
   ]
  },
  {
   "cell_type": "code",
   "execution_count": 1,
   "metadata": {
    "colab": {
     "base_uri": "https://localhost:8080/",
     "height": 125
    },
    "id": "wVgOQ8ZR_Jkp",
    "outputId": "df36ce26-e239-443a-b0f2-f452a9b98434"
   },
   "outputs": [
    {
     "name": "stdout",
     "output_type": "stream",
     "text": [
      "Recursão\n",
      "Recursão\n",
      "Recursão\n",
      "Recursão\n",
      "Recursão\n"
     ]
    }
   ],
   "source": [
    "for _ in range(5):\n",
    "  print('Recursão')"
   ]
  },
  {
   "cell_type": "code",
   "execution_count": 3,
   "metadata": {
    "id": "Rgs9ln20_cTk"
   },
   "outputs": [],
   "source": [
    "def recursao(i):\n",
    "  print('Recursão')\n",
    "  i += 1\n",
    "  if i == 5:\n",
    "    return\n",
    "  else:\n",
    "    recursao(i)"
   ]
  },
  {
   "cell_type": "code",
   "execution_count": 5,
   "metadata": {
    "colab": {
     "base_uri": "https://localhost:8080/",
     "height": 125
    },
    "id": "qNXqEuSg_hYJ",
    "outputId": "c69c72f8-cd1a-4138-b664-c5f9bb8bf476"
   },
   "outputs": [
    {
     "name": "stdout",
     "output_type": "stream",
     "text": [
      "Recursão\n",
      "Recursão\n",
      "Recursão\n",
      "Recursão\n",
      "Recursão\n"
     ]
    }
   ],
   "source": [
    "recursao(0)"
   ]
  },
  {
   "cell_type": "code",
   "execution_count": 7,
   "metadata": {},
   "outputs": [
    {
     "name": "stdout",
     "output_type": "stream",
     "text": [
      "Recursão\n"
     ]
    }
   ],
   "source": [
    "recursao(4)"
   ]
  },
  {
   "cell_type": "markdown",
   "metadata": {
    "id": "TUD8Y4wkPPZ_"
   },
   "source": [
    "#### Somar valores"
   ]
  },
  {
   "cell_type": "code",
   "execution_count": 9,
   "metadata": {
    "id": "3fnG2UZcI0m2"
   },
   "outputs": [],
   "source": [
    "def soma1(n):\n",
    "  soma = 0\n",
    "  for i in range(n + 1):\n",
    "    soma += i\n",
    "  return soma"
   ]
  },
  {
   "cell_type": "code",
   "execution_count": 11,
   "metadata": {
    "colab": {
     "base_uri": "https://localhost:8080/",
     "height": 55
    },
    "id": "5c8qin57JD2r",
    "outputId": "837fe56c-13bc-40ae-be43-57d5f9f957ff"
   },
   "outputs": [
    {
     "data": {
      "text/plain": [
       "15"
      ]
     },
     "execution_count": 11,
     "metadata": {},
     "output_type": "execute_result"
    }
   ],
   "source": [
    "soma1(5)"
   ]
  },
  {
   "cell_type": "code",
   "execution_count": 13,
   "metadata": {
    "id": "DCxZidZXJH7O"
   },
   "outputs": [],
   "source": [
    "def soma2(n):\n",
    "  if n == 0:\n",
    "    return 0\n",
    "\n",
    "  return n + soma2(n - 1)"
   ]
  },
  {
   "cell_type": "code",
   "execution_count": 15,
   "metadata": {
    "colab": {
     "base_uri": "https://localhost:8080/",
     "height": 55
    },
    "id": "r7VtUCruJX6h",
    "outputId": "70ff7f6c-1cab-4df0-8a15-4e43d9a7972b"
   },
   "outputs": [
    {
     "data": {
      "text/plain": [
       "15"
      ]
     },
     "execution_count": 15,
     "metadata": {},
     "output_type": "execute_result"
    }
   ],
   "source": [
    "soma2(5)"
   ]
  },
  {
   "cell_type": "code",
   "execution_count": 26,
   "metadata": {
    "colab": {
     "base_uri": "https://localhost:8080/",
     "height": 55
    },
    "id": "uUgeSIbSJcwh",
    "outputId": "b2d4bf13-d153-41f7-da3a-7d2a9615d3d1"
   },
   "outputs": [
    {
     "name": "stdout",
     "output_type": "stream",
     "text": [
      "7.6 μs ± 134 ns per loop (mean ± std. dev. of 7 runs, 100,000 loops each)\n"
     ]
    }
   ],
   "source": [
    "%timeit soma1(100)"
   ]
  },
  {
   "cell_type": "code",
   "execution_count": 24,
   "metadata": {
    "colab": {
     "base_uri": "https://localhost:8080/",
     "height": 55
    },
    "id": "agSmbyzjJmJ9",
    "outputId": "9d3c2715-8144-4fa3-b945-3cd2345b2c1e"
   },
   "outputs": [
    {
     "name": "stdout",
     "output_type": "stream",
     "text": [
      "14.6 μs ± 322 ns per loop (mean ± std. dev. of 7 runs, 100,000 loops each)\n"
     ]
    }
   ],
   "source": [
    "%timeit soma2(100)"
   ]
  },
  {
   "cell_type": "markdown",
   "metadata": {},
   "source": [
    "#### Fatorial"
   ]
  },
  {
   "cell_type": "code",
   "execution_count": 56,
   "metadata": {},
   "outputs": [],
   "source": [
    "def fatorial1(n):\n",
    "   if n > 1:\n",
    "      return n * fatorial1(n-1)\n",
    "   else:\n",
    "      return 1"
   ]
  },
  {
   "cell_type": "code",
   "execution_count": 51,
   "metadata": {},
   "outputs": [],
   "source": [
    "def fatorial2(n):\n",
    "    if (n == 0) or (n == 1):\n",
    "        resultado = 1\n",
    "        while n > 1:\n",
    "            resultado *= n\n",
    "            n -= 1\n",
    "        return resultado"
   ]
  },
  {
   "cell_type": "code",
   "execution_count": 60,
   "metadata": {},
   "outputs": [
    {
     "data": {
      "text/plain": [
       "120"
      ]
     },
     "execution_count": 60,
     "metadata": {},
     "output_type": "execute_result"
    }
   ],
   "source": [
    "fatorial1(5)"
   ]
  },
  {
   "cell_type": "code",
   "execution_count": 64,
   "metadata": {},
   "outputs": [],
   "source": [
    "fatorial2(5)"
   ]
  },
  {
   "cell_type": "code",
   "execution_count": 66,
   "metadata": {},
   "outputs": [
    {
     "name": "stdout",
     "output_type": "stream",
     "text": [
      "6.95 μs ± 43 ns per loop (mean ± std. dev. of 7 runs, 100,000 loops each)\n"
     ]
    }
   ],
   "source": [
    "%timeit fatorial1(100)"
   ]
  },
  {
   "cell_type": "code",
   "execution_count": 68,
   "metadata": {},
   "outputs": [
    {
     "name": "stdout",
     "output_type": "stream",
     "text": [
      "54.2 ns ± 0.112 ns per loop (mean ± std. dev. of 7 runs, 10,000,000 loops each)\n"
     ]
    }
   ],
   "source": [
    "%timeit fatorial2(100)"
   ]
  },
  {
   "cell_type": "markdown",
   "metadata": {},
   "source": [
    "### Fibonacci"
   ]
  },
  {
   "cell_type": "markdown",
   "metadata": {},
   "source": [
    "#### Fibonacci Recursivo"
   ]
  },
  {
   "cell_type": "code",
   "execution_count": 70,
   "metadata": {},
   "outputs": [],
   "source": [
    "def fib(n):\n",
    "    \"\"\"A função Fibonacci recursiva.\"\"\"\n",
    "    if n < 3:\n",
    "        return 1\n",
    "    else:\n",
    "       return fib(n - 1) + fib(n - 2)"
   ]
  },
  {
   "cell_type": "code",
   "execution_count": 73,
   "metadata": {},
   "outputs": [
    {
     "name": "stdout",
     "output_type": "stream",
     "text": [
      "622 μs ± 21.1 μs per loop (mean ± std. dev. of 7 runs, 1,000 loops each)\n"
     ]
    }
   ],
   "source": [
    "%timeit fib(20)"
   ]
  },
  {
   "cell_type": "markdown",
   "metadata": {},
   "source": [
    "#### Fibonacci Linear"
   ]
  },
  {
   "cell_type": "code",
   "execution_count": 75,
   "metadata": {},
   "outputs": [],
   "source": [
    "def fibonacci(N):\n",
    "    if N <= 0:\n",
    "        return \"O valor de N deve ser maior que 0\"\n",
    "    elif N == 1:\n",
    "        return 1\n",
    "    elif N == 2:\n",
    "        return 1\n",
    "\n",
    "    sum, first, second = 1, 1, 1\n",
    "    count = 3\n",
    "\n",
    "    while count <= N:\n",
    "        sum = first + second\n",
    "        first = second\n",
    "        second = sum\n",
    "        count += 1\n",
    "\n",
    "    return sum"
   ]
  },
  {
   "cell_type": "code",
   "execution_count": 77,
   "metadata": {},
   "outputs": [],
   "source": [
    "def fib2(n):\n",
    "    for i in range(1, n+1):\n",
    "        fibonacci(i)\n",
    "    return"
   ]
  },
  {
   "cell_type": "code",
   "execution_count": 79,
   "metadata": {},
   "outputs": [
    {
     "name": "stdout",
     "output_type": "stream",
     "text": [
      "8.14 μs ± 54.4 ns per loop (mean ± std. dev. of 7 runs, 100,000 loops each)\n"
     ]
    }
   ],
   "source": [
    "%timeit fib2(20)"
   ]
  },
  {
   "cell_type": "code",
   "execution_count": null,
   "metadata": {},
   "outputs": [],
   "source": []
  },
  {
   "cell_type": "markdown",
   "metadata": {},
   "source": [
    "## Exercícios"
   ]
  },
  {
   "cell_type": "markdown",
   "metadata": {},
   "source": [
    "#### Exercício 1: Soma de uma Lista\n",
    "Implemente uma função recursiva para calcular a soma dos elementos de uma lista de números inteiros. A função deve receber a lista como parâmetro e retornar a soma dos seus elementos.\n",
    "\n",
    "Descrição:\n",
    "- A função recursiva deve ser chamada repetidamente até que todos os elementos da lista sejam somados.\n",
    "- Caso base: se a lista estiver vazia, o resultado deve ser 0.\n",
    "- Caso recursivo: a soma do primeiro elemento da lista com a soma dos elementos restantes."
   ]
  },
  {
   "cell_type": "code",
   "execution_count": 91,
   "metadata": {},
   "outputs": [],
   "source": [
    "# Recursiva\n",
    "\n",
    "def somalista (lista):\n",
    "    if not lista:    # if len(lista)==0:\n",
    "        return 0\n",
    "    else:\n",
    "        return lista [0] + somalista(lista[1:])  #Slice\n"
   ]
  },
  {
   "cell_type": "code",
   "execution_count": 87,
   "metadata": {},
   "outputs": [
    {
     "name": "stdout",
     "output_type": "stream",
     "text": [
      "116\n"
     ]
    }
   ],
   "source": [
    "numeros = [2, 5, 20, 27, 7, 12, 43]\n",
    "resultado = somalista(numeros)\n",
    "print(resultado)"
   ]
  },
  {
   "cell_type": "code",
   "execution_count": 93,
   "metadata": {},
   "outputs": [],
   "source": [
    "# Não recursiva\n",
    "def somalista2 (lista):\n",
    "    soma = 0\n",
    "    for n in lista: \n",
    "        soma += n\n",
    "    return soma"
   ]
  },
  {
   "cell_type": "code",
   "execution_count": 97,
   "metadata": {},
   "outputs": [
    {
     "name": "stdout",
     "output_type": "stream",
     "text": [
      "116\n"
     ]
    }
   ],
   "source": [
    "numeros = [2, 5, 20, 27, 7, 12, 43]\n",
    "n = somalista2(numeros)\n",
    "print(n)"
   ]
  },
  {
   "cell_type": "code",
   "execution_count": 125,
   "metadata": {},
   "outputs": [],
   "source": [
    "# Não recursiva com While\n",
    "\n",
    "def somalista3 (lista):\n",
    "    soma = 0\n",
    "    i = 0\n",
    "    while i < len(lista):\n",
    "        soma += lista[i]\n",
    "        i += 1\n",
    "    return soma"
   ]
  },
  {
   "cell_type": "code",
   "execution_count": 127,
   "metadata": {},
   "outputs": [
    {
     "name": "stdout",
     "output_type": "stream",
     "text": [
      "116\n"
     ]
    }
   ],
   "source": [
    "numeros = [2, 5, 20, 27, 7, 12, 43]\n",
    "n = somalista3(numeros)\n",
    "print(n)"
   ]
  },
  {
   "cell_type": "code",
   "execution_count": 119,
   "metadata": {},
   "outputs": [],
   "source": [
    "# Não recursiva com Sum\n",
    "\n",
    "def somalista4(lista):\n",
    "    return sum(lista)"
   ]
  },
  {
   "cell_type": "code",
   "execution_count": 123,
   "metadata": {},
   "outputs": [
    {
     "name": "stdout",
     "output_type": "stream",
     "text": [
      "116\n"
     ]
    }
   ],
   "source": [
    "numeros = [2, 5, 20, 27, 7, 12, 43]\n",
    "n = somalista4(numeros)\n",
    "print(n)"
   ]
  },
  {
   "cell_type": "markdown",
   "metadata": {},
   "source": [
    "#### Exercício 2: Potenciação Recursiva\n",
    "Implemente uma função recursiva para calcular a potência de um número inteiro. A função deve receber dois parâmetros: a base e o expoente, e retornar o resultado da base elevada ao expoente.\n",
    "\n",
    "Descrição:\n",
    "- O caso base ocorre quando o expoente é 0, onde qualquer número elevado a 0 é 1.\n",
    "- O caso recursivo multiplica a base por ela mesma, diminuindo o expoente em 1 a cada chamada recursiva."
   ]
  },
  {
   "cell_type": "code",
   "execution_count": 145,
   "metadata": {},
   "outputs": [],
   "source": [
    "# Recursiva\n",
    "\n",
    "def potencia (base, exp):\n",
    "    if exp == 0:\n",
    "        return 1\n",
    "    else:\n",
    "        return base * potencia (base, exp -1)\n",
    "    "
   ]
  },
  {
   "cell_type": "code",
   "execution_count": 147,
   "metadata": {},
   "outputs": [
    {
     "name": "stdout",
     "output_type": "stream",
     "text": [
      "32\n"
     ]
    }
   ],
   "source": [
    "print (potencia(2,5))"
   ]
  },
  {
   "cell_type": "code",
   "execution_count": 161,
   "metadata": {},
   "outputs": [],
   "source": [
    "# Não recursiva\n",
    "\n",
    "def potencia2(base, exp):\n",
    "    p = 1\n",
    "    for _ in range(exp):\n",
    "        p *= base\n",
    "    return p"
   ]
  },
  {
   "cell_type": "code",
   "execution_count": 165,
   "metadata": {},
   "outputs": [
    {
     "name": "stdout",
     "output_type": "stream",
     "text": [
      "64\n"
     ]
    }
   ],
   "source": [
    "print (potencia(2,6))"
   ]
  },
  {
   "cell_type": "markdown",
   "metadata": {},
   "source": [
    "## Fim da Aula 9"
   ]
  }
 ],
 "metadata": {
  "colab": {
   "provenance": []
  },
  "kernelspec": {
   "display_name": "Python [conda env:base] *",
   "language": "python",
   "name": "conda-base-py"
  },
  "language_info": {
   "codemirror_mode": {
    "name": "ipython",
    "version": 3
   },
   "file_extension": ".py",
   "mimetype": "text/x-python",
   "name": "python",
   "nbconvert_exporter": "python",
   "pygments_lexer": "ipython3",
   "version": "3.12.7"
  }
 },
 "nbformat": 4,
 "nbformat_minor": 4
}
